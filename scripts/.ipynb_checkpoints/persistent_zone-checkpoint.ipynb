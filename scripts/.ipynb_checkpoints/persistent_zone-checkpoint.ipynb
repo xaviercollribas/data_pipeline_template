{
 "cells": [
  {
   "cell_type": "code",
   "execution_count": 1,
   "id": "1bb40dd7",
   "metadata": {},
   "outputs": [],
   "source": [
    "import os\n",
    "import shutil\n",
    "import time"
   ]
  },
  {
   "cell_type": "code",
   "execution_count": 2,
   "id": "763f7a08",
   "metadata": {},
   "outputs": [],
   "source": [
    "source_folder = 'path/to/project/Data/temporal'\n",
    "destination_folder = 'path/to/project/Data/persistent'"
   ]
  },
  {
   "cell_type": "code",
   "execution_count": 3,
   "id": "193853ab",
   "metadata": {
    "collapsed": true
   },
   "outputs": [
    {
     "ename": "FileNotFoundError",
     "evalue": "[Errno 2] No such file or directory: 'path/to/project/Data/temporal'",
     "output_type": "error",
     "traceback": [
      "\u001b[0;31m---------------------------------------------------------------------------\u001b[0m",
      "\u001b[0;31mFileNotFoundError\u001b[0m                         Traceback (most recent call last)",
      "Cell \u001b[0;32mIn[3], line 1\u001b[0m\n\u001b[0;32m----> 1\u001b[0m arxius \u001b[38;5;241m=\u001b[39m \u001b[43mos\u001b[49m\u001b[38;5;241;43m.\u001b[39;49m\u001b[43mlistdir\u001b[49m\u001b[43m(\u001b[49m\u001b[43msource_folder\u001b[49m\u001b[43m)\u001b[49m\n",
      "\u001b[0;31mFileNotFoundError\u001b[0m: [Errno 2] No such file or directory: 'path/to/project/Data/temporal'"
     ]
    }
   ],
   "source": [
    "arxius = os.listdir(source_folder)"
   ]
  },
  {
   "cell_type": "code",
   "execution_count": 4,
   "id": "22908b92",
   "metadata": {},
   "outputs": [],
   "source": [
    "timestamp = int(time.time())"
   ]
  },
  {
   "cell_type": "code",
   "execution_count": 5,
   "id": "408a62f3",
   "metadata": {},
   "outputs": [
    {
     "name": "stdout",
     "output_type": "stream",
     "text": [
      "Archivo chicago_traffic.csv ha sido renombrado y movido a /home/xavier/Documents/FIB/TFG/22_04/Data/persistent/chicago_traffic_1683484010.csv\n",
      "Archivo chicago_fuel.csv ha sido renombrado y movido a /home/xavier/Documents/FIB/TFG/22_04/Data/persistent/chicago_fuel_1683484010.csv\n",
      "Proceso completado.\n"
     ]
    }
   ],
   "source": [
    "for file in files:\n",
    "    # Check if the file is a file and not a folder\n",
    "    if os.path.isfile(os.path.join(source_folder, file)):\n",
    "        # Generate the new file name with the original name + timestamp\n",
    "        original_name, extension = os.path.splitext(file)\n",
    "        new_name = original_name + '_' + str(timestamp) + extension\n",
    "        \n",
    "        # Generate the source and destination file paths\n",
    "        source_path = os.path.join(source_folder, file)\n",
    "        destination_path = os.path.join(destination_folder, new_name)\n",
    "        \n",
    "        # Move the file to the destination folder with the new name\n",
    "        shutil.move(source_path, destination_path)\n",
    "        print(f'File {file} has been renamed and moved to {destination_path}')\n",
    "    else:\n",
    "        print(f'{file} is a folder and will not be processed.')\n",
    "\n",
    "print('Process completed.')\n",
    "\n"
   ]
  },
  {
   "cell_type": "code",
   "execution_count": null,
   "id": "d3cd2c95",
   "metadata": {},
   "outputs": [],
   "source": []
  },
  {
   "cell_type": "code",
   "execution_count": null,
   "id": "e93f196e",
   "metadata": {},
   "outputs": [],
   "source": []
  },
  {
   "cell_type": "code",
   "execution_count": null,
   "id": "c8550263",
   "metadata": {},
   "outputs": [],
   "source": []
  }
 ],
 "metadata": {
  "kernelspec": {
   "display_name": "Python 3 (ipykernel)",
   "language": "python",
   "name": "python3"
  },
  "language_info": {
   "codemirror_mode": {
    "name": "ipython",
    "version": 3
   },
   "file_extension": ".py",
   "mimetype": "text/x-python",
   "name": "python",
   "nbconvert_exporter": "python",
   "pygments_lexer": "ipython3",
   "version": "3.10.6"
  }
 },
 "nbformat": 4,
 "nbformat_minor": 5
}
