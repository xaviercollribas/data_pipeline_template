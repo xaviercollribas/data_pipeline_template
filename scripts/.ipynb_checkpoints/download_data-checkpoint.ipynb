{
 "cells": [
  {
   "cell_type": "code",
   "execution_count": 8,
   "id": "1bb40dd7",
   "metadata": {},
   "outputs": [],
   "source": [
    "import requests\n",
    "import os"
   ]
  },
  {
   "cell_type": "code",
   "execution_count": 9,
   "id": "193853ab",
   "metadata": {},
   "outputs": [],
   "source": [
    "API_ENDPOINT = \"\"\n",
    "API_ENDPOINT2 = \"\"\n"
   ]
  },
  {
   "cell_type": "code",
   "execution_count": 10,
   "id": "7c331126",
   "metadata": {},
   "outputs": [],
   "source": [
    "temporal_folder_path = 'path/to/project/folder/Data/temporal'"
   ]
  },
  {
   "cell_type": "code",
   "execution_count": 11,
   "id": "3415cb4a",
   "metadata": {},
   "outputs": [],
   "source": [
    "response = requests.get(API_ENDPOINT)\n",
    "response2 = requests.get(API_ENDPOINT2)"
   ]
  },
  {
   "cell_type": "code",
   "execution_count": 13,
   "id": "14897485",
   "metadata": {},
   "outputs": [
    {
     "name": "stdout",
     "output_type": "stream",
     "text": [
      "API 1: ERROR. ERROR CODE: 200\n"
     ]
    }
   ],
   "source": [
    "if response.status_code != 200:\n",
    "    print(\"API 1: CORRECT RESPONSE\")\n",
    "else:\n",
    "    print(f\"API 1: ERROR. ERROR CODE: {response.status_code}\")"
   ]
  },
  {
   "cell_type": "code",
   "execution_count": null,
   "id": "961279aa",
   "metadata": {},
   "outputs": [],
   "source": [
    "if response.status_code != 200:\n",
    "    print(\"API 2: CORRECT RESPONSE\")\n",
    "else:\n",
    "    print(f\"API 2: ERROR. ERROR CODE: {response.status_code}\")"
   ]
  },
  {
   "cell_type": "code",
   "execution_count": 9,
   "id": "c96345a8",
   "metadata": {},
   "outputs": [
    {
     "name": "stdout",
     "output_type": "stream",
     "text": [
      "/home/xavier/Documents/FIB/TFG/22_04/Data/temporal/chicago_fuel.csv\n",
      "/home/xavier/Documents/FIB/TFG/22_04/Data/temporal/chicago_traffic.csv\n"
     ]
    }
   ],
   "source": [
    "if response.status_code == 200 and response2.status_code == 200:\n",
    "    file_name1 = '.csv' #complete here with the file name\n",
    "    file_name2 = '.csv' #complete here with the file name\n",
    "    # Generating the path string for the files\n",
    "    file_path1 = os.path.join(temporal_folder_path, file_name1)\n",
    "    file_path2 = os.path.join(temporal_folder_path, file_name2)\n",
    "\n",
    "    # Saving data to local file\n",
    "    with open(file_path1, 'wb') as file:\n",
    "        file.write(response.content)\n",
    "    with open(file_path2, 'wb') as file:\n",
    "        file.write(response2.content)\n",
    "else:\n",
    "    print(\"Could not download the data\")\n",
    "    \n"
   ]
  },
  {
   "cell_type": "code",
   "execution_count": null,
   "id": "d40c4f8b",
   "metadata": {},
   "outputs": [],
   "source": []
  },
  {
   "cell_type": "code",
   "execution_count": null,
   "id": "540dfb8e",
   "metadata": {},
   "outputs": [],
   "source": []
  }
 ],
 "metadata": {
  "kernelspec": {
   "display_name": "Python 3 (ipykernel)",
   "language": "python",
   "name": "python3"
  },
  "language_info": {
   "codemirror_mode": {
    "name": "ipython",
    "version": 3
   },
   "file_extension": ".py",
   "mimetype": "text/x-python",
   "name": "python",
   "nbconvert_exporter": "python",
   "pygments_lexer": "ipython3",
   "version": "3.10.6"
  }
 },
 "nbformat": 4,
 "nbformat_minor": 5
}
