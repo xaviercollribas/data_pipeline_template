{
 "cells": [
  {
   "cell_type": "code",
   "execution_count": 11,
   "id": "37aee395",
   "metadata": {},
   "outputs": [],
   "source": [
    "import os\n",
    "import duckdb\n",
    "import pandas as pd"
   ]
  },
  {
   "cell_type": "code",
   "execution_count": 12,
   "id": "4aa144cc",
   "metadata": {},
   "outputs": [],
   "source": [
    "duckdb_path = '/home/xavier/Documents/FIB/TFG/22_04/Database/database.db'"
   ]
  },
  {
   "cell_type": "code",
   "execution_count": 13,
   "id": "966d0bb7",
   "metadata": {},
   "outputs": [],
   "source": [
    "carpeta_csv = '/home/xavier/Documents/FIB/TFG/22_04/Data/persistent/'"
   ]
  },
  {
   "cell_type": "code",
   "execution_count": 14,
   "id": "272b22d5",
   "metadata": {},
   "outputs": [],
   "source": [
    "con = duckdb.connect(duckdb_path)"
   ]
  },
  {
   "cell_type": "code",
   "execution_count": 15,
   "id": "12bfabe2",
   "metadata": {},
   "outputs": [],
   "source": [
    "con.sql(\"CREATE SCHEMA IF NOT EXISTS main_formatted_zone\")\n",
    "con.sql(\"CREATE SCHEMA IF NOT EXISTS main_trusted_zone\")\n",
    "con.sql(\"CREATE SCHEMA IF NOT EXISTS main_exploitation_zone\")"
   ]
  },
  {
   "cell_type": "code",
   "execution_count": 16,
   "id": "7821442e",
   "metadata": {},
   "outputs": [],
   "source": [
    "archivos_csv = [archivo for archivo in os.listdir(carpeta_csv) if archivo.endswith('.csv')]"
   ]
  },
  {
   "cell_type": "code",
   "execution_count": 17,
   "id": "8f0f9dc0",
   "metadata": {},
   "outputs": [
    {
     "ename": "CatalogException",
     "evalue": "Catalog Error: Table with name data does not exist!\nDid you mean \"temp.information_schema.tables\"?\nLINE 1: ...icago_fuel_1682189202 AS SELECT * FROM data\n                                                  ^",
     "output_type": "error",
     "traceback": [
      "\u001b[0;31m---------------------------------------------------------------------------\u001b[0m",
      "\u001b[0;31mCatalogException\u001b[0m                          Traceback (most recent call last)",
      "Cell \u001b[0;32mIn[17], line 12\u001b[0m\n\u001b[1;32m      9\u001b[0m \u001b[38;5;66;03m# Leer el archivo CSV en un DataFrame de pandas\u001b[39;00m\n\u001b[1;32m     10\u001b[0m df \u001b[38;5;241m=\u001b[39m pd\u001b[38;5;241m.\u001b[39mread_csv(ruta_csv)\n\u001b[0;32m---> 12\u001b[0m \u001b[43mcon\u001b[49m\u001b[38;5;241;43m.\u001b[39;49m\u001b[43msql\u001b[49m\u001b[43m(\u001b[49m\u001b[38;5;124;43mf\u001b[39;49m\u001b[38;5;124;43m\"\u001b[39;49m\u001b[38;5;124;43mCREATE TABLE main_formatted_zone.\u001b[39;49m\u001b[38;5;132;43;01m{\u001b[39;49;00m\u001b[43mnombre_tabla\u001b[49m\u001b[38;5;132;43;01m}\u001b[39;49;00m\u001b[38;5;124;43m AS SELECT * FROM data\u001b[39;49m\u001b[38;5;124;43m\"\u001b[39;49m\u001b[43m)\u001b[49m\n",
      "\u001b[0;31mCatalogException\u001b[0m: Catalog Error: Table with name data does not exist!\nDid you mean \"temp.information_schema.tables\"?\nLINE 1: ...icago_fuel_1682189202 AS SELECT * FROM data\n                                                  ^"
     ]
    }
   ],
   "source": [
    "# Iterar sobre los archivos CSV en la carpeta\n",
    "for archivo in archivos_csv:\n",
    "    # Generar el nombre de tabla a partir del nombre de archivo\n",
    "    nombre_tabla = os.path.splitext(archivo)[0]\n",
    "    \n",
    "    # Generar la ruta completa del archivo CSV\n",
    "    ruta_csv = os.path.join(carpeta_csv, archivo)\n",
    "    \n",
    "    # Leer el archivo CSV en un DataFrame de pandas\n",
    "    data = pd.read_csv(ruta_csv)\n",
    "    \n",
    "    con.sql(f\"CREATE TABLE main_formatted_zone.{nombre_tabla} AS SELECT * FROM data\")"
   ]
  },
  {
   "cell_type": "code",
   "execution_count": null,
   "id": "7c5c79f6",
   "metadata": {},
   "outputs": [],
   "source": [
    "con.close()"
   ]
  }
 ],
 "metadata": {
  "kernelspec": {
   "display_name": "Python 3 (ipykernel)",
   "language": "python",
   "name": "python3"
  },
  "language_info": {
   "codemirror_mode": {
    "name": "ipython",
    "version": 3
   },
   "file_extension": ".py",
   "mimetype": "text/x-python",
   "name": "python",
   "nbconvert_exporter": "python",
   "pygments_lexer": "ipython3",
   "version": "3.10.6"
  }
 },
 "nbformat": 4,
 "nbformat_minor": 5
}
