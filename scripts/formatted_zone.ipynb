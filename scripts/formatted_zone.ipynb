{
 "cells": [
  {
   "cell_type": "code",
   "execution_count": 1,
   "id": "37aee395",
   "metadata": {},
   "outputs": [],
   "source": [
    "import os\n",
    "import duckdb\n",
    "import pandas as pd"
   ]
  },
  {
   "cell_type": "code",
   "execution_count": 2,
   "id": "087ee05b",
   "metadata": {},
   "outputs": [],
   "source": [
    "duckdb_path = 'path/to/project/Database/database.db'"
   ]
  },
  {
   "cell_type": "code",
   "execution_count": 3,
   "id": "81b3ceae",
   "metadata": {},
   "outputs": [],
   "source": [
    "carpeta_csv = 'path/to/project/Data/persistent/'"
   ]
  },
  {
   "cell_type": "code",
   "execution_count": 4,
   "id": "a9fd7fae",
   "metadata": {},
   "outputs": [],
   "source": [
    "con = duckdb.connect(duckdb_path)"
   ]
  },
  {
   "cell_type": "code",
   "execution_count": 5,
   "id": "9ae18be1",
   "metadata": {},
   "outputs": [],
   "source": [
    "con.sql(\"CREATE SCHEMA IF NOT EXISTS main_formatted_zone\")\n",
    "con.sql(\"CREATE SCHEMA IF NOT EXISTS main_trusted_zone\")\n",
    "con.sql(\"CREATE SCHEMA IF NOT EXISTS main_exploitation_zone\")"
   ]
  },
  {
   "cell_type": "code",
   "execution_count": 6,
   "id": "40c6af49",
   "metadata": {},
   "outputs": [],
   "source": [
    "archivos_csv = [archivo for archivo in os.listdir(carpeta_csv) if archivo.endswith('.csv')]"
   ]
  },
  {
   "cell_type": "code",
   "execution_count": 8,
   "id": "b8e4b0b0",
   "metadata": {},
   "outputs": [],
   "source": [
    "# Iterar sobre los archivos CSV en la carpeta\n",
    "for archivo in archivos_csv:\n",
    "    # Generar el nombre de tabla a partir del nombre de archivo\n",
    "    nombre_tabla = os.path.splitext(archivo)[0]\n",
    "    \n",
    "    # Generar la ruta completa del archivo CSV\n",
    "    ruta_csv = os.path.join(carpeta_csv, archivo)\n",
    "    \n",
    "    # Leer el archivo CSV en un DataFrame de pandas\n",
    "    data = pd.read_csv(ruta_csv)\n",
    "    \n",
    "    con.sql(f\"CREATE TABLE if not exists main_formatted_zone.{nombre_tabla} AS SELECT * FROM data\")"
   ]
  },
  {
   "cell_type": "code",
   "execution_count": 9,
   "id": "7c5c79f6",
   "metadata": {},
   "outputs": [],
   "source": [
    "con.close()"
   ]
  },
  {
   "cell_type": "code",
   "execution_count": null,
   "id": "99e0bc12",
   "metadata": {},
   "outputs": [],
   "source": []
  }
 ],
 "metadata": {
  "kernelspec": {
   "display_name": "Python 3 (ipykernel)",
   "language": "python",
   "name": "python3"
  },
  "language_info": {
   "codemirror_mode": {
    "name": "ipython",
    "version": 3
   },
   "file_extension": ".py",
   "mimetype": "text/x-python",
   "name": "python",
   "nbconvert_exporter": "python",
   "pygments_lexer": "ipython3",
   "version": "3.10.6"
  }
 },
 "nbformat": 4,
 "nbformat_minor": 5
}
